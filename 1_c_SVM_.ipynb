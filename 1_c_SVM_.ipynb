{
  "cells": [
    {
      "cell_type": "markdown",
      "metadata": {
        "id": "zTKZy7Gj6veU"
      },
      "source": [
        "<center><h1>1-c: SVM</h1></center>\n",
        "\n",
        "<center><h2><a href=\"https://rdfia.github.io/\">Course link</a></h2></center>\n",
        "\n",
        "# Warning : \n",
        "# Do \"File -> Save a copy in Drive\" before you start modifying the notebook, otherwise your modifications will not be saved.\n"
      ]
    },
    {
      "cell_type": "code",
      "execution_count": null,
      "metadata": {
        "colab": {
          "base_uri": "https://localhost:8080/"
        },
        "id": "QK8of_MGVV2M",
        "outputId": "e18bb661-687b-4f45-c6c6-3b5ba592d45b"
      },
      "outputs": [
        {
          "output_type": "stream",
          "name": "stdout",
          "text": [
            "--2022-10-12 20:17:59--  https://github.com/rdfia/rdfia.github.io/raw/master/data/15_scenes_Xy.npz\n",
            "Resolving github.com (github.com)... 140.82.113.3\n",
            "Connecting to github.com (github.com)|140.82.113.3|:443... connected.\n",
            "HTTP request sent, awaiting response... 302 Found\n",
            "Location: https://raw.githubusercontent.com/rdfia/rdfia.github.io/master/data/15_scenes_Xy.npz [following]\n",
            "--2022-10-12 20:17:59--  https://raw.githubusercontent.com/rdfia/rdfia.github.io/master/data/15_scenes_Xy.npz\n",
            "Resolving raw.githubusercontent.com (raw.githubusercontent.com)... 185.199.108.133, 185.199.109.133, 185.199.110.133, ...\n",
            "Connecting to raw.githubusercontent.com (raw.githubusercontent.com)|185.199.108.133|:443... connected.\n",
            "HTTP request sent, awaiting response... 200 OK\n",
            "Length: 35952210 (34M) [application/octet-stream]\n",
            "Saving to: ‘15_scenes_Xy.npz’\n",
            "\n",
            "15_scenes_Xy.npz    100%[===================>]  34.29M   170MB/s    in 0.2s    \n",
            "\n",
            "2022-10-12 20:18:00 (170 MB/s) - ‘15_scenes_Xy.npz’ saved [35952210/35952210]\n",
            "\n"
          ]
        }
      ],
      "source": [
        "!wget https://github.com/rdfia/rdfia.github.io/raw/master/data/15_scenes_Xy.npz"
      ]
    },
    {
      "cell_type": "code",
      "execution_count": null,
      "metadata": {
        "colab": {
          "base_uri": "https://localhost:8080/"
        },
        "id": "PH3AHmt_WAOs",
        "outputId": "fca47d3b-44e1-4eec-9ca2-274866b8008e"
      },
      "outputs": [
        {
          "output_type": "stream",
          "name": "stdout",
          "text": [
            "Populating the interactive namespace from numpy and matplotlib\n"
          ]
        }
      ],
      "source": [
        "%pylab inline\n",
        "\n",
        "import matplotlib.pyplot as plt\n",
        "import numpy as np\n",
        "from sklearn.svm import SVC\n",
        "from sklearn.model_selection import KFold, train_test_split\n",
        "from sklearn.metrics import accuracy_score"
      ]
    },
    {
      "cell_type": "markdown",
      "metadata": {
        "id": "A6TfY3K0W8MM"
      },
      "source": [
        "Loading BoW of the whole dataset (4485 images, thus 4485 dictionnary of 1001 words):"
      ]
    },
    {
      "cell_type": "code",
      "execution_count": null,
      "metadata": {
        "colab": {
          "base_uri": "https://localhost:8080/"
        },
        "id": "FWLV0po7WO1E",
        "outputId": "f7f70cf1-14ea-4f77-cc3a-7702212461c0"
      },
      "outputs": [
        {
          "output_type": "execute_result",
          "data": {
            "text/plain": [
              "((4485, 1001), (4485,))"
            ]
          },
          "metadata": {},
          "execution_count": 5
        }
      ],
      "source": [
        "data = np.load(\"15_scenes_Xy.npz\")\n",
        "X = data[\"X\"]\n",
        "y = data[\"y\"]\n",
        "\n",
        "X.shape, y.shape"
      ]
    },
    {
      "cell_type": "markdown",
      "metadata": {
        "id": "Sfh5x5kYXFcY"
      },
      "source": [
        "Let's see what is the class distribution:"
      ]
    },
    {
      "cell_type": "code",
      "execution_count": null,
      "metadata": {
        "colab": {
          "base_uri": "https://localhost:8080/"
        },
        "id": "RqNSdTTkWiPQ",
        "outputId": "9b9c902e-3ed0-4e62-e4c6-d5cf50a660e0"
      },
      "outputs": [
        {
          "output_type": "execute_result",
          "data": {
            "text/plain": [
              "{0: 241,\n",
              " 1: 360,\n",
              " 2: 328,\n",
              " 3: 260,\n",
              " 4: 308,\n",
              " 5: 374,\n",
              " 6: 410,\n",
              " 7: 292,\n",
              " 8: 356,\n",
              " 9: 215,\n",
              " 10: 216,\n",
              " 11: 311,\n",
              " 12: 210,\n",
              " 13: 289,\n",
              " 14: 315}"
            ]
          },
          "metadata": {},
          "execution_count": 6
        }
      ],
      "source": [
        "{c: nb for c, nb in enumerate(np.bincount(y))}"
      ]
    },
    {
      "cell_type": "markdown",
      "metadata": {
        "id": "MVUjgR30X7pI"
      },
      "source": [
        "Split the dataset into a train & test set:"
      ]
    },
    {
      "cell_type": "code",
      "execution_count": null,
      "metadata": {
        "id": "AO4XiNupWjVk"
      },
      "outputs": [],
      "source": [
        "X_train_val, X_test, y_train_val, y_test = train_test_split(X, y, test_size=0.2, random_state=42)"
      ]
    },
    {
      "cell_type": "markdown",
      "metadata": {
        "id": "SsnJDa_IYdmk"
      },
      "source": [
        "Then a validation set from the train set:"
      ]
    },
    {
      "cell_type": "code",
      "execution_count": null,
      "metadata": {
        "id": "jjX3N-35YcFs"
      },
      "outputs": [],
      "source": [
        "X_train, X_val, y_train, y_val = train_test_split(X_train_val, y_train_val, test_size=10/80, random_state=42) #or should we just put 10?"
      ]
    },
    {
      "cell_type": "markdown",
      "metadata": {
        "id": "NHlcmt-SYBKQ"
      },
      "source": [
        "Let's hyperparameter gridsearch over different values of `C`:"
      ]
    },
    {
      "cell_type": "code",
      "execution_count": null,
      "metadata": {
        "colab": {
          "base_uri": "https://localhost:8080/"
        },
        "id": "F9wZ9l5FX_QY",
        "outputId": "519fc8a1-5089-4767-c6a5-c7f6c9197e5f"
      },
      "outputs": [
        {
          "name": "stdout",
          "output_type": "stream",
          "text": [
            "Training SVM with C=0.01\n",
            "--> accuracy = 0.10244988864142539\n",
            "Training SVM with C=0.001\n",
            "--> accuracy = 0.10244988864142539\n",
            "Training SVM with C=0.0001\n",
            "--> accuracy = 0.10244988864142539\n",
            "Training SVM with C=1e-05\n",
            "--> accuracy = 0.10244988864142539\n",
            "Training SVM with C=0.1\n",
            "--> accuracy = 0.111358574610245\n",
            "Training SVM with C=1\n",
            "--> accuracy = 0.512249443207127\n",
            "Training SVM with C=2\n",
            "--> accuracy = 0.5367483296213809\n",
            "Training SVM with C=5\n",
            "--> accuracy = 0.5367483296213809\n",
            "Training SVM with C=10\n",
            "--> accuracy = 0.5367483296213809\n",
            "Training SVM with C=100\n",
            "--> accuracy = 0.5367483296213809\n"
          ]
        }
      ],
      "source": [
        "C_values = [0.01, 0.001, 0.0001, 0.00001, 0.1, 1, 2, 5, 10, 100] #add more values here to check more Cs effect (hard vs Soft Margin)\n",
        "accuracies = []\n",
        "\n",
        "for c in C_values:\n",
        "  print(f'Training SVM with C={c}')\n",
        "  clf = SVC(gamma='auto', C=c) #gamma = 1 / n_features.\n",
        "\n",
        "  # Fit on sub-train set\n",
        "  clf.fit(X_train, y_train)\n",
        "\n",
        "  # Evaluate on val set\n",
        "  y_hat = clf.predict(X_val)\n",
        "  acc = accuracy_score(y_val, y_hat)\n",
        "  accuracies.append(acc)\n",
        "\n",
        "  print(f'--> accuracy = {acc}')"
      ]
    },
    {
      "cell_type": "code",
      "execution_count": null,
      "metadata": {
        "colab": {
          "base_uri": "https://localhost:8080/",
          "height": 265
        },
        "id": "a8md3e7iZN5M",
        "outputId": "3591f03e-c343-42ca-9dbb-46ed1f3fe45d"
      },
      "outputs": [
        {
          "data": {
            "image/png": "[encoded data removed]",
            "text/plain": [
              "<Figure size 432x288 with 1 Axes>"
            ]
          },
          "metadata": {},
          "output_type": "display_data"
        }
      ],
      "source": [
        "#TODO plot the relation between `c` and the accuracy\n",
        "plt.plot(C_values[:-1], accuracies[:-1])\n",
        "plt.show()"
      ]
    },
    {
      "cell_type": "code",
      "execution_count": null,
      "metadata": {
        "id": "SK7WWSltbJbc"
      },
      "outputs": [],
      "source": [
        "#TODO Fit on the whole train set, evaluate on the test set "
      ]
    },
    {
      "cell_type": "markdown",
      "metadata": {
        "id": "iCRk9QaGbiuM"
      },
      "source": [
        "Do the same with different kernel values, and different decision functions:"
      ]
    },
    {
      "cell_type": "markdown",
      "metadata": {
        "id": "YDjlVdcMoA1N"
      },
      "source": [
        "**sigmoid Kernel**\n",
        "VERY Bad"
      ]
    },
    {
      "cell_type": "code",
      "execution_count": null,
      "metadata": {
        "colab": {
          "base_uri": "https://localhost:8080/"
        },
        "id": "Pwd0BdIhbR5o",
        "outputId": "6dd35718-f930-4bbc-848d-b29b7f6fc985"
      },
      "outputs": [
        {
          "name": "stdout",
          "output_type": "stream",
          "text": [
            "Training SVM with C=0.01\n",
            "--> accuracy = 0.10244988864142539\n",
            "Training SVM with C=0.001\n",
            "--> accuracy = 0.10244988864142539\n",
            "Training SVM with C=0.0001\n",
            "--> accuracy = 0.10244988864142539\n",
            "Training SVM with C=1e-05\n",
            "--> accuracy = 0.10244988864142539\n",
            "Training SVM with C=0.1\n",
            "--> accuracy = 0.1447661469933185\n",
            "Training SVM with C=1\n",
            "--> accuracy = 0.11804008908685969\n",
            "Training SVM with C=2\n",
            "--> accuracy = 0.0957683741648107\n",
            "Training SVM with C=5\n",
            "--> accuracy = 0.08685968819599109\n",
            "Training SVM with C=10\n",
            "--> accuracy = 0.066815144766147\n",
            "Training SVM with C=100\n",
            "--> accuracy = 0.060133630289532294\n"
          ]
        }
      ],
      "source": [
        "accuracies = []\n",
        "for c in C_values:\n",
        "  print(f'Training SVM with C={c}')\n",
        "  clf = SVC(kernel= 'sigmoid', gamma='auto', C=c) #gamma = 1 / n_features.\n",
        "\n",
        "  # Fit on sub-train set\n",
        "  clf.fit(X_train, y_train)\n",
        "\n",
        "  # Evaluate on val set\n",
        "  y_hat = clf.predict(X_val)\n",
        "  acc = accuracy_score(y_val, y_hat)\n",
        "  accuracies.append(acc)\n",
        "\n",
        "  print(f'--> accuracy = {acc}')"
      ]
    },
    {
      "cell_type": "code",
      "execution_count": null,
      "metadata": {
        "colab": {
          "base_uri": "https://localhost:8080/",
          "height": 265
        },
        "id": "7KkrKAGXnPnU",
        "outputId": "103e15d8-3872-4e8c-fb64-081dd49e7b3d"
      },
      "outputs": [
        {
          "data": {
            "image/png": "[encoded data removed]",
            "text/plain": [
              "<Figure size 432x288 with 1 Axes>"
            ]
          },
          "metadata": {},
          "output_type": "display_data"
        }
      ],
      "source": [
        "plt.plot(C_values[:-1], accuracies[:-1])\n",
        "plt.show()"
      ]
    },
    {
      "cell_type": "markdown",
      "metadata": {
        "id": "6Q1NjbNZoIKt"
      },
      "source": [
        "**poly**\n",
        "64%"
      ]
    },
    {
      "cell_type": "code",
      "execution_count": null,
      "metadata": {
        "colab": {
          "base_uri": "https://localhost:8080/",
          "height": 612
        },
        "id": "3RTb1zjnnh0G",
        "outputId": "7877c268-79aa-4d53-aeaa-a425cad880de"
      },
      "outputs": [
        {
          "name": "stdout",
          "output_type": "stream",
          "text": [
            "Training SVM with C=0.01\n",
            "--> accuracy = 0.6414253897550112\n",
            "Training SVM with C=0.001\n",
            "--> accuracy = 0.6347438752783965\n",
            "Training SVM with C=0.0001\n",
            "--> accuracy = 0.6169265033407573\n",
            "Training SVM with C=1e-05\n",
            "--> accuracy = 0.4365256124721604\n",
            "Training SVM with C=0.1\n",
            "--> accuracy = 0.6503340757238307\n",
            "Training SVM with C=1\n",
            "--> accuracy = 0.6547884187082406\n",
            "Training SVM with C=2\n",
            "--> accuracy = 0.6547884187082406\n",
            "Training SVM with C=5\n",
            "--> accuracy = 0.6547884187082406\n",
            "Training SVM with C=10\n",
            "--> accuracy = 0.6547884187082406\n",
            "Training SVM with C=100\n",
            "--> accuracy = 0.6547884187082406\n"
          ]
        },
        {
          "data": {
            "image/png": "[encoded data removed]",
            "text/plain": [
              "<Figure size 432x288 with 1 Axes>"
            ]
          },
          "metadata": {},
          "output_type": "display_data"
        }
      ],
      "source": [
        "accuracies = []\n",
        "for c in C_values:\n",
        "  print(f'Training SVM with C={c}')\n",
        "  clf = SVC(kernel= 'poly', gamma='auto', C=c) #gamma = 1 / n_features.\n",
        "\n",
        "  # Fit on sub-train set\n",
        "  clf.fit(X_train, y_train)\n",
        "\n",
        "  # Evaluate on val set\n",
        "  y_hat = clf.predict(X_val)\n",
        "  acc = accuracy_score(y_val, y_hat)\n",
        "  accuracies.append(acc)\n",
        "\n",
        "  print(f'--> accuracy = {acc}')\n",
        "\n",
        "plt.plot(C_values[:-1], accuracies[:-1])\n",
        "plt.show()"
      ]
    },
    {
      "cell_type": "markdown",
      "metadata": {
        "id": "CnyyODn1oiqS"
      },
      "source": []
    },
    {
      "cell_type": "code",
      "execution_count": null,
      "metadata": {
        "colab": {
          "base_uri": "https://localhost:8080/"
        },
        "id": "PvtOeoQAoNyq",
        "outputId": "6dc48795-1a6f-46fa-9ab1-0728638f63b0"
      },
      "outputs": [
        {
          "output_type": "stream",
          "name": "stdout",
          "text": [
            "Training SVM with kernel=linear\n",
            "Training SVM with C=0.01\n",
            "--> accuracy = 1.0\n",
            "--> accuracy = 0.7216035634743875\n",
            "Training SVM with C=0.001\n",
            "--> accuracy = 0.9690984389933099\n",
            "--> accuracy = 0.7394209354120267\n",
            "Training SVM with C=0.0001\n",
            "--> accuracy = 0.7467346288626951\n",
            "--> accuracy = 0.6726057906458798\n",
            "Training SVM with C=1e-05\n",
            "--> accuracy = 0.4246575342465753\n",
            "--> accuracy = 0.42538975501113585\n",
            "Training SVM with C=0.1\n",
            "--> accuracy = 1.0\n",
            "--> accuracy = 0.7193763919821826\n",
            "Training SVM with C=1\n",
            "--> accuracy = 1.0\n",
            "--> accuracy = 0.7193763919821826\n",
            "Training SVM with C=2\n",
            "--> accuracy = 1.0\n",
            "--> accuracy = 0.7193763919821826\n",
            "Training SVM with C=5\n",
            "--> accuracy = 1.0\n",
            "--> accuracy = 0.7193763919821826\n",
            "Training SVM with C=10\n",
            "--> accuracy = 1.0\n",
            "--> accuracy = 0.7193763919821826\n",
            "Training SVM with C=100\n",
            "--> accuracy = 1.0\n",
            "--> accuracy = 0.7193763919821826\n",
            "Training SVM with C=500\n",
            "--> accuracy = 1.0\n",
            "--> accuracy = 0.7193763919821826\n",
            "Training SVM with C=1001\n",
            "--> accuracy = 1.0\n",
            "--> accuracy = 0.7193763919821826\n",
            "Training SVM with kernel=poly\n",
            "Training SVM with C=0.01\n",
            "--> accuracy = 0.13188913666772858\n",
            "--> accuracy = 0.13140311804008908\n",
            "Training SVM with C=0.001\n",
            "--> accuracy = 0.12551768079006054\n",
            "--> accuracy = 0.12026726057906459\n",
            "Training SVM with C=0.0001\n",
            "--> accuracy = 0.09843899330997133\n",
            "--> accuracy = 0.1091314031180401\n",
            "Training SVM with C=1e-05\n",
            "--> accuracy = 0.09238611022618669\n",
            "--> accuracy = 0.10244988864142539\n",
            "Training SVM with C=0.1\n",
            "--> accuracy = 0.2042051608792609\n",
            "--> accuracy = 0.155902004454343\n",
            "Training SVM with C=1\n",
            "--> accuracy = 0.429117553360943\n",
            "--> accuracy = 0.35412026726057905\n",
            "Training SVM with C=2\n",
            "--> accuracy = 0.49092067537432305\n",
            "--> accuracy = 0.40311804008908686\n",
            "Training SVM with C=5\n",
            "--> accuracy = 0.5603695444409047\n",
            "--> accuracy = 0.44766146993318484\n",
            "Training SVM with C=10\n",
            "--> accuracy = 0.616756928958267\n",
            "--> accuracy = 0.5011135857461024\n",
            "Training SVM with C=100\n",
            "--> accuracy = 0.8104491876393756\n",
            "--> accuracy = 0.6481069042316259\n",
            "Training SVM with C=500\n",
            "--> accuracy = 0.8974195603695444\n",
            "--> accuracy = 0.6325167037861915\n",
            "Training SVM with C=1001\n",
            "--> accuracy = 0.9209939471169162\n",
            "--> accuracy = 0.6391982182628062\n",
            "Training SVM with kernel=rbf\n",
            "Training SVM with C=0.01\n",
            "--> accuracy = 0.1487734947435489\n",
            "--> accuracy = 0.1403118040089087\n",
            "Training SVM with C=0.001\n",
            "--> accuracy = 0.09238611022618669\n",
            "--> accuracy = 0.10244988864142539\n",
            "Training SVM with C=0.0001\n",
            "--> accuracy = 0.09238611022618669\n",
            "--> accuracy = 0.10244988864142539\n",
            "Training SVM with C=1e-05\n",
            "--> accuracy = 0.09238611022618669\n",
            "--> accuracy = 0.10244988864142539\n",
            "Training SVM with C=0.1\n",
            "--> accuracy = 0.267601146862058\n",
            "--> accuracy = 0.2739420935412027\n",
            "Training SVM with C=1\n",
            "--> accuracy = 0.5504937878305193\n",
            "--> accuracy = 0.5100222717149221\n",
            "Training SVM with C=2\n",
            "--> accuracy = 0.6355527237973877\n",
            "--> accuracy = 0.5902004454342984\n",
            "Training SVM with C=5\n",
            "--> accuracy = 0.7610704045874482\n",
            "--> accuracy = 0.6614699331848553\n",
            "Training SVM with C=10\n",
            "--> accuracy = 0.8499522140809175\n",
            "--> accuracy = 0.7037861915367484\n",
            "Training SVM with C=100\n",
            "--> accuracy = 1.0\n",
            "--> accuracy = 0.732739420935412\n",
            "Training SVM with C=500\n",
            "--> accuracy = 1.0\n",
            "--> accuracy = 0.7371937639198218\n",
            "Training SVM with C=1001\n",
            "--> accuracy = 1.0\n",
            "--> accuracy = 0.7371937639198218\n",
            "Training SVM with kernel=sigmoid\n",
            "Training SVM with C=0.01\n",
            "--> accuracy = 0.09238611022618669\n",
            "--> accuracy = 0.10244988864142539\n",
            "Training SVM with C=0.001\n",
            "--> accuracy = 0.09238611022618669\n",
            "--> accuracy = 0.10244988864142539\n",
            "Training SVM with C=0.0001\n",
            "--> accuracy = 0.09238611022618669\n",
            "--> accuracy = 0.10244988864142539\n",
            "Training SVM with C=1e-05\n",
            "--> accuracy = 0.09238611022618669\n",
            "--> accuracy = 0.10244988864142539\n",
            "Training SVM with C=0.1\n",
            "--> accuracy = 0.10194329404268876\n",
            "--> accuracy = 0.09131403118040089\n",
            "Training SVM with C=1\n",
            "--> accuracy = 0.16279069767441862\n",
            "--> accuracy = 0.155902004454343\n",
            "Training SVM with C=2\n",
            "--> accuracy = 0.19114367633004142\n",
            "--> accuracy = 0.1915367483296214\n",
            "Training SVM with C=5\n",
            "--> accuracy = 0.2013380057343103\n",
            "--> accuracy = 0.21380846325167038\n",
            "Training SVM with C=10\n",
            "--> accuracy = 0.21121376234469577\n",
            "--> accuracy = 0.22048997772828507\n",
            "Training SVM with C=100\n",
            "--> accuracy = 0.19878942338324307\n",
            "--> accuracy = 0.19599109131403117\n",
            "Training SVM with C=500\n",
            "--> accuracy = 0.19337368588722523\n",
            "--> accuracy = 0.18930957683741648\n",
            "Training SVM with C=1001\n",
            "--> accuracy = 0.19337368588722523\n",
            "--> accuracy = 0.18930957683741648\n"
          ]
        }
      ],
      "source": [
        "C_values = [0.01, 0.001, 0.0001, 0.00001, 0.1, 1, 2, 5, 10, 100, 500, 1001] #add more values here to check more Cs effect (hard vs Soft Margin)\n",
        "Kernels = ['linear', 'poly', 'rbf', 'sigmoid']\n",
        "accuracies = dict()\n",
        "train_acc = dict()\n",
        "\n",
        "for k in Kernels:\n",
        "  print(f'Training SVM with kernel={k}')\n",
        "  accs = []\n",
        "  t_accs = []\n",
        "  for c in C_values:\n",
        "    print(f'Training SVM with C={c}')\n",
        "    clf = SVC(C=c, kernel = k) #gamma = 1 / n_features. \\one over resr\n",
        "\n",
        "    # Fit on sub-train set\n",
        "    clf.fit(X_train, y_train)\n",
        "\n",
        "    # Evaluate on val set\n",
        "    y_hat = clf.predict(X_train)\n",
        "    acc = accuracy_score(y_train, y_hat)\n",
        "    print(f'--> accuracy = {acc}')\n",
        "    t_accs.append(acc)\n",
        "\n",
        "    # Evaluate on val set\n",
        "    y_hat = clf.predict(X_val)\n",
        "    acc = accuracy_score(y_val, y_hat)\n",
        "    print(f'--> accuracy = {acc}')\n",
        "    accs.append(acc)\n",
        "\n",
        "  accuracies[k] = accs\n",
        "  train_acc[k]= t_accs"
      ]
    },
    {
      "cell_type": "code",
      "execution_count": null,
      "metadata": {
        "colab": {
          "base_uri": "https://localhost:8080/",
          "height": 729
        },
        "id": "Fc6e29Hqpbv5",
        "outputId": "4eebc610-525f-4e76-8dad-b9927e938db7"
      },
      "outputs": [
        {
          "output_type": "display_data",
          "data": {
            "text/plain": [
              "<Figure size 720x720 with 8 Axes>"
            ],
            "image/png": "[encoded data removed]"
          },
          "metadata": {
            "needs_background": "light"
          }
        }
      ],
      "source": [
        "fig, axs = plt.subplots(len(Kernels),2, figsize=(10, 10), sharex=True, sharey=True)\n",
        "for i, k in enumerate(Kernels):\n",
        "  axs[i,0].plot(C_values, accuracies[k])\n",
        "  axs[i,0].set_title(str(i+1)+\".a. Validation accuracies using the \"+k+\" kernel\")\n",
        "  axs[i,1].plot(C_values, train_acc[k])\n",
        "  axs[i,1].set_title(str(i+1)+\".b. Training set accuracies using the \"+k+\" kernel\")\n",
        "for ax in axs.flat:\n",
        "    ax.set(ylabel='accuracies')\n",
        "\n",
        "axs[3,0].set(xlabel='C values' ,ylabel='accuracies')\n",
        "axs[3,1].set(xlabel='C values' ,ylabel='accuracies')\n",
        "fig.tight_layout()\n",
        "fig.savefig(\"values.pdf\")\n"
      ]
    },
    {
      "cell_type": "code",
      "source": [
        "    clf = SVC(C=0.001, kernel = 'linear') #gamma = 1 / n_features. \\one over resr\n",
        "\n",
        "    # Fit on sub-train set\n",
        "    clf.fit(X_train, y_train)\n",
        "\n",
        "    # Evaluate on val set\n",
        "    y_hat = clf.predict(X_train)\n",
        "    acc = accuracy_score(y_train, y_hat)\n",
        "    print(f'--> accuracy = {acc}')\n",
        "\n",
        "    # Evaluate on val set\n",
        "    y_hat = clf.predict(X_val)\n",
        "    acc = accuracy_score(y_val, y_hat)\n",
        "    print(f'--> accuracy = {acc}')\n",
        "\n",
        "    # Evaluate on test set\n",
        "    y_hat = clf.predict(X_test)\n",
        "    acc = accuracy_score(y_test, y_hat)\n",
        "    print(f'--> accuracy = {acc}')"
      ],
      "metadata": {
        "colab": {
          "base_uri": "https://localhost:8080/"
        },
        "id": "tgcJjnqxR06c",
        "outputId": "dac0df5d-ac5f-40be-f8e8-3cbdc25aa1dd"
      },
      "execution_count": null,
      "outputs": [
        {
          "output_type": "stream",
          "name": "stdout",
          "text": [
            "--> accuracy = 0.9690984389933099\n",
            "--> accuracy = 0.7394209354120267\n",
            "--> accuracy = 0.7357859531772575\n"
          ]
        }
      ]
    },
    {
      "cell_type": "markdown",
      "metadata": {
        "id": "jZwy6ycKsdkP"
      },
      "source": [
        "Best accuracy so far is with linear kernel and C = 0.001: 0.7446393762183235"
      ]
    },
    {
      "cell_type": "code",
      "execution_count": null,
      "metadata": {
        "colab": {
          "background_save": true
        },
        "id": "w-IzmsBOsl7l",
        "outputId": "874fb24b-e26b-4fc8-fee5-2039cd7420d6"
      },
      "outputs": [
        {
          "name": "stdout",
          "output_type": "stream",
          "text": [
            "Training SVM with kernel=linear\n",
            "Training SVM with C=0.01\n",
            "--> accuracy = 0.7216035634743875\n",
            "Training SVM with C=0.001\n",
            "--> accuracy = 0.7394209354120267\n",
            "Training SVM with C=0.0001\n",
            "--> accuracy = 0.6726057906458798\n",
            "Training SVM with C=1e-05\n",
            "--> accuracy = 0.42538975501113585\n",
            "Training SVM with C=0.1\n",
            "--> accuracy = 0.7193763919821826\n",
            "Training SVM with C=1\n",
            "--> accuracy = 0.7193763919821826\n",
            "Training SVM with C=2\n",
            "--> accuracy = 0.7193763919821826\n",
            "Training SVM with C=5\n",
            "--> accuracy = 0.7193763919821826\n",
            "Training SVM with C=10\n",
            "--> accuracy = 0.7193763919821826\n",
            "Training SVM with C=100\n",
            "--> accuracy = 0.7193763919821826\n",
            "Training SVM with C=500\n",
            "--> accuracy = 0.7193763919821826\n",
            "Training SVM with C=1001\n",
            "--> accuracy = 0.7193763919821826\n",
            "Training SVM with kernel=poly\n",
            "Training SVM with C=0.01\n",
            "--> accuracy = 0.13140311804008908\n",
            "Training SVM with C=0.001\n",
            "--> accuracy = 0.12026726057906459\n",
            "Training SVM with C=0.0001\n",
            "--> accuracy = 0.1091314031180401\n",
            "Training SVM with C=1e-05\n",
            "--> accuracy = 0.10244988864142539\n",
            "Training SVM with C=0.1\n",
            "--> accuracy = 0.155902004454343\n",
            "Training SVM with C=1\n",
            "--> accuracy = 0.35412026726057905\n",
            "Training SVM with C=2\n",
            "--> accuracy = 0.40311804008908686\n",
            "Training SVM with C=5\n",
            "--> accuracy = 0.44766146993318484\n",
            "Training SVM with C=10\n",
            "--> accuracy = 0.5011135857461024\n",
            "Training SVM with C=100\n",
            "--> accuracy = 0.6481069042316259\n",
            "Training SVM with C=500\n",
            "--> accuracy = 0.6325167037861915\n",
            "Training SVM with C=1001\n",
            "--> accuracy = 0.6391982182628062\n",
            "Training SVM with kernel=rbf\n",
            "Training SVM with C=0.01\n",
            "--> accuracy = 0.1403118040089087\n",
            "Training SVM with C=0.001\n",
            "--> accuracy = 0.10244988864142539\n",
            "Training SVM with C=0.0001\n",
            "--> accuracy = 0.10244988864142539\n",
            "Training SVM with C=1e-05\n",
            "--> accuracy = 0.10244988864142539\n",
            "Training SVM with C=0.1\n",
            "--> accuracy = 0.2739420935412027\n",
            "Training SVM with C=1\n",
            "--> accuracy = 0.5100222717149221\n",
            "Training SVM with C=2\n",
            "--> accuracy = 0.5902004454342984\n",
            "Training SVM with C=5\n",
            "--> accuracy = 0.6614699331848553\n",
            "Training SVM with C=10\n",
            "--> accuracy = 0.7037861915367484\n",
            "Training SVM with C=100\n",
            "--> accuracy = 0.732739420935412\n",
            "Training SVM with C=500\n",
            "--> accuracy = 0.7371937639198218\n",
            "Training SVM with C=1001\n",
            "--> accuracy = 0.7371937639198218\n",
            "Training SVM with kernel=sigmoid\n",
            "Training SVM with C=0.01\n",
            "--> accuracy = 0.10244988864142539\n",
            "Training SVM with C=0.001\n",
            "--> accuracy = 0.10244988864142539\n",
            "Training SVM with C=0.0001\n",
            "--> accuracy = 0.10244988864142539\n",
            "Training SVM with C=1e-05\n",
            "--> accuracy = 0.10244988864142539\n",
            "Training SVM with C=0.1\n",
            "--> accuracy = 0.09131403118040089\n",
            "Training SVM with C=1\n",
            "--> accuracy = 0.155902004454343\n",
            "Training SVM with C=2\n",
            "--> accuracy = 0.1915367483296214\n",
            "Training SVM with C=5\n",
            "--> accuracy = 0.21380846325167038\n",
            "Training SVM with C=10\n",
            "--> accuracy = 0.22048997772828507\n",
            "Training SVM with C=100\n",
            "--> accuracy = 0.19599109131403117\n",
            "Training SVM with C=500\n",
            "--> accuracy = 0.18930957683741648\n",
            "Training SVM with C=1001\n",
            "--> accuracy = 0.18930957683741648\n"
          ]
        }
      ],
      "source": [
        "C_values = [0.01, 0.001, 0.0001, 0.00001, 0.1, 1, 2, 5, 10, 100, 500, 1001] #add more values here to check more Cs effect (hard vs Soft Margin)\n",
        "Kernels = ['linear', 'poly', 'rbf', 'sigmoid']\n",
        "accuracies = dict()\n",
        "\n",
        "for k in Kernels:\n",
        "  print(f'Training SVM with kernel={k}')\n",
        "  accs = []\n",
        "  for c in C_values:\n",
        "    print(f'Training SVM with C={c}')\n",
        "    clf = SVC(C=c, kernel = k,decision_function_shape='ovo') #gamma = 1 / n_features.\n",
        "\n",
        "    # Fit on sub-train set\n",
        "    clf.fit(X_train, y_train)\n",
        "\n",
        "    # Evaluate on val set\n",
        "    y_hat = clf.predict(X_val)\n",
        "    acc = accuracy_score(y_val, y_hat)\n",
        "    print(f'--> accuracy = {acc}')\n",
        "    accs.append(acc)\n",
        "  accuracies[k] = accs"
      ]
    },
    {
      "cell_type": "code",
      "execution_count": null,
      "metadata": {
        "colab": {
          "background_save": true
        },
        "id": "KYXPaJjVvhg8",
        "outputId": "26414258-742a-4eff-ebba-aba8200b5a19"
      },
      "outputs": [
        {
          "data": {
            "image/png": "[encoded data removed]",
            "text/plain": [
              "<Figure size 1800x1080 with 4 Axes>"
            ]
          },
          "metadata": {},
          "output_type": "display_data"
        }
      ],
      "source": [
        "fig, axs = plt.subplots(len(Kernels), figsize=(25, 15))\n",
        "for i, k in enumerate(Kernels):\n",
        "  axs[i].plot(C_values, accuracies[k])\n",
        "  axs[i].set_title(k)"
      ]
    },
    {
      "cell_type": "code",
      "source": [],
      "metadata": {
        "id": "KyefPPPN7eaB"
      },
      "execution_count": null,
      "outputs": []
    }
  ],
  "metadata": {
    "colab": {
      "collapsed_sections": [],
      "provenance": []
    },
    "kernelspec": {
      "display_name": "Python 3",
      "name": "python3"
    }
  },
  "nbformat": 4,
  "nbformat_minor": 0
}